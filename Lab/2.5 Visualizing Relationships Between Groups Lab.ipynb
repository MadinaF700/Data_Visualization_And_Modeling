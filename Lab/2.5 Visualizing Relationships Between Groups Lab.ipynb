{
 "cells": [
  {
   "cell_type": "markdown",
   "id": "28c93a12-5d6b-4ec2-8f55-ae8041395903",
   "metadata": {},
   "source": [
    "# Lab Instructions\n",
    "\n",
    "You are part of a data team for a financial institution that uses an AI model to determine who will and will not be granted a loan.  Recently, there have been complaints from customers that the model unfairly discriminates based on the applicant's age and sex. A court has ordered that the financial institution must provide information about how the model works.  \n",
    "\n",
    "Data from recent loan applications is given in `loan_data.csv`.  The data dictionary is below:\n",
    "\n",
    "| Feature              | Description | Data Type |\n",
    "| :---------------- | :------: | ----: |\n",
    "|person_age|Age of the person|Float\n",
    "|person_gender|Gender of the person|Categorical\n",
    "|person_education|Highest education level|Categorical\n",
    "|person_income|Annual income|Float\n",
    "|person_emp_exp|Years of employment experience|Integer\n",
    "|person_home_ownership|Home ownership status (e.g., rent, own, mortgage)|Categorical\n",
    "|loan_amnt|Loan amount requested|Float\n",
    "|loan_intent|Purpose of the loan|Categorical\n",
    "|loan_int_rate|Loan interest rate|Float\n",
    "|loan_percent_income|Loan amount as a percentage of annual income|Float\n",
    "|cb_person_cred_hist_length|Length of credit history in years|Float\n",
    "|credit_score|Credit score of the person|Integer\n",
    "|previous_loan_defaults_on_file|Indicator of previous loan defaults|Categorical\n",
    "|loan_status (target variable)|Loan approval status: 1 = approved; 0 = rejected|Integer\n",
    "\n",
    "Visualize the relationship between age, sex and 5 other features with `loan_status`.  Which features seem to drive the model's decision to grant a loan?  Which seem unrelated?  Should the financial institution be concerned about potential legal trouble?  Make sure to justify your answers with specific references to your visualizations.\n",
    "\n"
   ]
  },
  {
   "cell_type": "code",
   "execution_count": 105,
   "id": "96fff61d-ba89-4c74-8712-a5abe4cc1ecf",
   "metadata": {},
   "outputs": [
    {
     "data": {
      "text/html": [
       "<div>\n",
       "<style scoped>\n",
       "    .dataframe tbody tr th:only-of-type {\n",
       "        vertical-align: middle;\n",
       "    }\n",
       "\n",
       "    .dataframe tbody tr th {\n",
       "        vertical-align: top;\n",
       "    }\n",
       "\n",
       "    .dataframe thead th {\n",
       "        text-align: right;\n",
       "    }\n",
       "</style>\n",
       "<table border=\"1\" class=\"dataframe\">\n",
       "  <thead>\n",
       "    <tr style=\"text-align: right;\">\n",
       "      <th></th>\n",
       "      <th>person_age</th>\n",
       "      <th>person_gender</th>\n",
       "      <th>person_education</th>\n",
       "      <th>person_income</th>\n",
       "      <th>person_emp_exp</th>\n",
       "      <th>person_home_ownership</th>\n",
       "      <th>loan_amnt</th>\n",
       "      <th>loan_intent</th>\n",
       "      <th>loan_int_rate</th>\n",
       "      <th>loan_percent_income</th>\n",
       "      <th>cb_person_cred_hist_length</th>\n",
       "      <th>credit_score</th>\n",
       "      <th>previous_loan_defaults_on_file</th>\n",
       "      <th>loan_status</th>\n",
       "    </tr>\n",
       "  </thead>\n",
       "  <tbody>\n",
       "    <tr>\n",
       "      <th>0</th>\n",
       "      <td>71</td>\n",
       "      <td>male</td>\n",
       "      <td>Associate</td>\n",
       "      <td>46817.176426</td>\n",
       "      <td>3</td>\n",
       "      <td>RENT</td>\n",
       "      <td>11567.737650</td>\n",
       "      <td>MEDICAL</td>\n",
       "      <td>10.351469</td>\n",
       "      <td>0.247083</td>\n",
       "      <td>5</td>\n",
       "      <td>806.869094</td>\n",
       "      <td>No</td>\n",
       "      <td>0</td>\n",
       "    </tr>\n",
       "    <tr>\n",
       "      <th>1</th>\n",
       "      <td>34</td>\n",
       "      <td>male</td>\n",
       "      <td>High School</td>\n",
       "      <td>79093.494008</td>\n",
       "      <td>17</td>\n",
       "      <td>OWN</td>\n",
       "      <td>9519.674498</td>\n",
       "      <td>MEDICAL</td>\n",
       "      <td>11.168902</td>\n",
       "      <td>0.120360</td>\n",
       "      <td>1</td>\n",
       "      <td>604.330171</td>\n",
       "      <td>No</td>\n",
       "      <td>0</td>\n",
       "    </tr>\n",
       "    <tr>\n",
       "      <th>2</th>\n",
       "      <td>80</td>\n",
       "      <td>male</td>\n",
       "      <td>Associate</td>\n",
       "      <td>67819.614431</td>\n",
       "      <td>20</td>\n",
       "      <td>OWN</td>\n",
       "      <td>16226.604002</td>\n",
       "      <td>PERSONAL</td>\n",
       "      <td>12.293112</td>\n",
       "      <td>0.239261</td>\n",
       "      <td>11</td>\n",
       "      <td>685.933579</td>\n",
       "      <td>No</td>\n",
       "      <td>0</td>\n",
       "    </tr>\n",
       "    <tr>\n",
       "      <th>3</th>\n",
       "      <td>40</td>\n",
       "      <td>female</td>\n",
       "      <td>Associate</td>\n",
       "      <td>49599.861220</td>\n",
       "      <td>0</td>\n",
       "      <td>RENT</td>\n",
       "      <td>15641.221708</td>\n",
       "      <td>VENTURE</td>\n",
       "      <td>10.327926</td>\n",
       "      <td>0.315348</td>\n",
       "      <td>14</td>\n",
       "      <td>629.190150</td>\n",
       "      <td>No</td>\n",
       "      <td>0</td>\n",
       "    </tr>\n",
       "    <tr>\n",
       "      <th>4</th>\n",
       "      <td>43</td>\n",
       "      <td>male</td>\n",
       "      <td>Doctorate</td>\n",
       "      <td>99833.900180</td>\n",
       "      <td>8</td>\n",
       "      <td>OWN</td>\n",
       "      <td>12727.942517</td>\n",
       "      <td>EDUCATION</td>\n",
       "      <td>9.338069</td>\n",
       "      <td>0.127491</td>\n",
       "      <td>16</td>\n",
       "      <td>638.298168</td>\n",
       "      <td>No</td>\n",
       "      <td>1</td>\n",
       "    </tr>\n",
       "  </tbody>\n",
       "</table>\n",
       "</div>"
      ],
      "text/plain": [
       "   person_age person_gender person_education  person_income  person_emp_exp  \\\n",
       "0          71          male        Associate   46817.176426               3   \n",
       "1          34          male      High School   79093.494008              17   \n",
       "2          80          male        Associate   67819.614431              20   \n",
       "3          40        female        Associate   49599.861220               0   \n",
       "4          43          male        Doctorate   99833.900180               8   \n",
       "\n",
       "  person_home_ownership     loan_amnt loan_intent  loan_int_rate  \\\n",
       "0                  RENT  11567.737650     MEDICAL      10.351469   \n",
       "1                   OWN   9519.674498     MEDICAL      11.168902   \n",
       "2                   OWN  16226.604002    PERSONAL      12.293112   \n",
       "3                  RENT  15641.221708     VENTURE      10.327926   \n",
       "4                   OWN  12727.942517   EDUCATION       9.338069   \n",
       "\n",
       "   loan_percent_income  cb_person_cred_hist_length  credit_score  \\\n",
       "0             0.247083                           5    806.869094   \n",
       "1             0.120360                           1    604.330171   \n",
       "2             0.239261                          11    685.933579   \n",
       "3             0.315348                          14    629.190150   \n",
       "4             0.127491                          16    638.298168   \n",
       "\n",
       "  previous_loan_defaults_on_file  loan_status  \n",
       "0                             No            0  \n",
       "1                             No            0  \n",
       "2                             No            0  \n",
       "3                             No            0  \n",
       "4                             No            1  "
      ]
     },
     "execution_count": 105,
     "metadata": {},
     "output_type": "execute_result"
    }
   ],
   "source": [
    "import pandas as pd\n",
    "loan_df = pd.read_csv('loan_data.csv')\n",
    "loan_df.head(5)"
   ]
  },
  {
   "cell_type": "code",
   "execution_count": 106,
   "id": "d40c81d3-7bc6-43c9-a97d-d1970621ec84",
   "metadata": {},
   "outputs": [],
   "source": [
    "import seaborn as sns\n",
    "import matplotlib.pyplot as plt\n",
    "\n",
    "import warnings\n",
    "warnings.simplefilter(action='ignore', category=FutureWarning)"
   ]
  },
  {
   "cell_type": "code",
   "execution_count": 107,
   "id": "27d70cb8-a61b-409d-b89e-bcfa7ff19010",
   "metadata": {},
   "outputs": [
    {
     "data": {
      "text/html": [
       "<div>\n",
       "<style scoped>\n",
       "    .dataframe tbody tr th:only-of-type {\n",
       "        vertical-align: middle;\n",
       "    }\n",
       "\n",
       "    .dataframe tbody tr th {\n",
       "        vertical-align: top;\n",
       "    }\n",
       "\n",
       "    .dataframe thead th {\n",
       "        text-align: right;\n",
       "    }\n",
       "</style>\n",
       "<table border=\"1\" class=\"dataframe\">\n",
       "  <thead>\n",
       "    <tr style=\"text-align: right;\">\n",
       "      <th>loan_status</th>\n",
       "      <th>0</th>\n",
       "      <th>1</th>\n",
       "    </tr>\n",
       "    <tr>\n",
       "      <th>person_age</th>\n",
       "      <th></th>\n",
       "      <th></th>\n",
       "    </tr>\n",
       "  </thead>\n",
       "  <tbody>\n",
       "    <tr>\n",
       "      <th>20</th>\n",
       "      <td>80.269058</td>\n",
       "      <td>19.730942</td>\n",
       "    </tr>\n",
       "    <tr>\n",
       "      <th>21</th>\n",
       "      <td>83.597122</td>\n",
       "      <td>16.402878</td>\n",
       "    </tr>\n",
       "    <tr>\n",
       "      <th>22</th>\n",
       "      <td>83.043478</td>\n",
       "      <td>16.956522</td>\n",
       "    </tr>\n",
       "    <tr>\n",
       "      <th>23</th>\n",
       "      <td>80.230880</td>\n",
       "      <td>19.769120</td>\n",
       "    </tr>\n",
       "    <tr>\n",
       "      <th>24</th>\n",
       "      <td>80.434783</td>\n",
       "      <td>19.565217</td>\n",
       "    </tr>\n",
       "    <tr>\n",
       "      <th>...</th>\n",
       "      <td>...</td>\n",
       "      <td>...</td>\n",
       "    </tr>\n",
       "    <tr>\n",
       "      <th>81</th>\n",
       "      <td>100.000000</td>\n",
       "      <td>0.000000</td>\n",
       "    </tr>\n",
       "    <tr>\n",
       "      <th>82</th>\n",
       "      <td>100.000000</td>\n",
       "      <td>0.000000</td>\n",
       "    </tr>\n",
       "    <tr>\n",
       "      <th>83</th>\n",
       "      <td>100.000000</td>\n",
       "      <td>0.000000</td>\n",
       "    </tr>\n",
       "    <tr>\n",
       "      <th>84</th>\n",
       "      <td>100.000000</td>\n",
       "      <td>0.000000</td>\n",
       "    </tr>\n",
       "    <tr>\n",
       "      <th>85</th>\n",
       "      <td>100.000000</td>\n",
       "      <td>0.000000</td>\n",
       "    </tr>\n",
       "  </tbody>\n",
       "</table>\n",
       "<p>66 rows × 2 columns</p>\n",
       "</div>"
      ],
      "text/plain": [
       "loan_status           0          1\n",
       "person_age                        \n",
       "20            80.269058  19.730942\n",
       "21            83.597122  16.402878\n",
       "22            83.043478  16.956522\n",
       "23            80.230880  19.769120\n",
       "24            80.434783  19.565217\n",
       "...                 ...        ...\n",
       "81           100.000000   0.000000\n",
       "82           100.000000   0.000000\n",
       "83           100.000000   0.000000\n",
       "84           100.000000   0.000000\n",
       "85           100.000000   0.000000\n",
       "\n",
       "[66 rows x 2 columns]"
      ]
     },
     "execution_count": 107,
     "metadata": {},
     "output_type": "execute_result"
    }
   ],
   "source": [
    "pd.crosstab(loan_df['person_age'], loan_df['loan_status'], normalize='index')*100"
   ]
  },
  {
   "cell_type": "markdown",
   "id": "dd70f375-104c-46e6-aba8-d480e59d5cb2",
   "metadata": {},
   "source": [
    "## 1)Age of the person\n"
   ]
  },
  {
   "cell_type": "code",
   "execution_count": 108,
   "id": "08d7bbe7-a04d-43a0-b6e4-d96b47803802",
   "metadata": {},
   "outputs": [
    {
     "data": {
      "image/png": "[encoded data removed]",
      "text/plain": [
       "<Figure size 640x480 with 1 Axes>"
      ]
     },
     "metadata": {},
     "output_type": "display_data"
    }
   ],
   "source": [
    "sns.boxplot(x='person_age', y='loan_status', data=loan_df, orient='h')\n",
    "plt.title('Loan Status by Age')\n",
    "plt.xlabel('Age')\n",
    "plt.ylabel('Loan Status (0 = Denied, 1 = Approved)')\n",
    "plt.show()"
   ]
  },
  {
   "cell_type": "code",
   "execution_count": 109,
   "id": "4d90cc77-8f31-46fe-9fb7-5510630083af",
   "metadata": {},
   "outputs": [
    {
     "data": {
      "text/plain": [
       "count    45000.000000\n",
       "mean        52.440422\n",
       "std         19.087414\n",
       "min         20.000000\n",
       "25%         36.000000\n",
       "50%         52.000000\n",
       "75%         69.000000\n",
       "max         85.000000\n",
       "Name: person_age, dtype: float64"
      ]
     },
     "execution_count": 109,
     "metadata": {},
     "output_type": "execute_result"
    }
   ],
   "source": [
    "loan_df['person_age'].describe()"
   ]
  },
  {
   "cell_type": "markdown",
   "id": "bf97d615-c2b9-478f-bd82-f3f586851298",
   "metadata": {},
   "source": [
    "## 2)Gender of the person"
   ]
  },
  {
   "cell_type": "code",
   "execution_count": 110,
   "id": "10eda81a-6485-4e89-ae65-d498e88ea4e6",
   "metadata": {},
   "outputs": [
    {
     "data": {
      "text/html": [
       "<div>\n",
       "<style scoped>\n",
       "    .dataframe tbody tr th:only-of-type {\n",
       "        vertical-align: middle;\n",
       "    }\n",
       "\n",
       "    .dataframe tbody tr th {\n",
       "        vertical-align: top;\n",
       "    }\n",
       "\n",
       "    .dataframe thead th {\n",
       "        text-align: right;\n",
       "    }\n",
       "</style>\n",
       "<table border=\"1\" class=\"dataframe\">\n",
       "  <thead>\n",
       "    <tr style=\"text-align: right;\">\n",
       "      <th>loan_status</th>\n",
       "      <th>0</th>\n",
       "      <th>1</th>\n",
       "    </tr>\n",
       "    <tr>\n",
       "      <th>person_gender</th>\n",
       "      <th></th>\n",
       "      <th></th>\n",
       "    </tr>\n",
       "  </thead>\n",
       "  <tbody>\n",
       "    <tr>\n",
       "      <th>female</th>\n",
       "      <td>15934</td>\n",
       "      <td>1975</td>\n",
       "    </tr>\n",
       "    <tr>\n",
       "      <th>male</th>\n",
       "      <td>24173</td>\n",
       "      <td>2918</td>\n",
       "    </tr>\n",
       "  </tbody>\n",
       "</table>\n",
       "</div>"
      ],
      "text/plain": [
       "loan_status        0     1\n",
       "person_gender             \n",
       "female         15934  1975\n",
       "male           24173  2918"
      ]
     },
     "execution_count": 110,
     "metadata": {},
     "output_type": "execute_result"
    }
   ],
   "source": [
    "pd.crosstab(loan_df['person_gender'], loan_df['loan_status'])"
   ]
  },
  {
   "cell_type": "code",
   "execution_count": 111,
   "id": "e467a26b-219d-48d2-aea7-369a90b64a1c",
   "metadata": {},
   "outputs": [
    {
     "data": {
      "text/html": [
       "<div>\n",
       "<style scoped>\n",
       "    .dataframe tbody tr th:only-of-type {\n",
       "        vertical-align: middle;\n",
       "    }\n",
       "\n",
       "    .dataframe tbody tr th {\n",
       "        vertical-align: top;\n",
       "    }\n",
       "\n",
       "    .dataframe thead th {\n",
       "        text-align: right;\n",
       "    }\n",
       "</style>\n",
       "<table border=\"1\" class=\"dataframe\">\n",
       "  <thead>\n",
       "    <tr style=\"text-align: right;\">\n",
       "      <th>loan_status</th>\n",
       "      <th>0</th>\n",
       "      <th>1</th>\n",
       "    </tr>\n",
       "    <tr>\n",
       "      <th>person_gender</th>\n",
       "      <th></th>\n",
       "      <th></th>\n",
       "    </tr>\n",
       "  </thead>\n",
       "  <tbody>\n",
       "    <tr>\n",
       "      <th>female</th>\n",
       "      <td>35.408889</td>\n",
       "      <td>4.388889</td>\n",
       "    </tr>\n",
       "    <tr>\n",
       "      <th>male</th>\n",
       "      <td>53.717778</td>\n",
       "      <td>6.484444</td>\n",
       "    </tr>\n",
       "  </tbody>\n",
       "</table>\n",
       "</div>"
      ],
      "text/plain": [
       "loan_status            0         1\n",
       "person_gender                     \n",
       "female         35.408889  4.388889\n",
       "male           53.717778  6.484444"
      ]
     },
     "execution_count": 111,
     "metadata": {},
     "output_type": "execute_result"
    }
   ],
   "source": [
    "pd.crosstab(loan_df['person_gender'], loan_df['loan_status'], normalize=True)*100"
   ]
  },
  {
   "cell_type": "code",
   "execution_count": 112,
   "id": "6d8f1881-cf77-4e2c-91f7-0a8a2a28d796",
   "metadata": {},
   "outputs": [
    {
     "data": {
      "text/html": [
       "<div>\n",
       "<style scoped>\n",
       "    .dataframe tbody tr th:only-of-type {\n",
       "        vertical-align: middle;\n",
       "    }\n",
       "\n",
       "    .dataframe tbody tr th {\n",
       "        vertical-align: top;\n",
       "    }\n",
       "\n",
       "    .dataframe thead th {\n",
       "        text-align: right;\n",
       "    }\n",
       "</style>\n",
       "<table border=\"1\" class=\"dataframe\">\n",
       "  <thead>\n",
       "    <tr style=\"text-align: right;\">\n",
       "      <th>loan_status</th>\n",
       "      <th>0</th>\n",
       "      <th>1</th>\n",
       "    </tr>\n",
       "    <tr>\n",
       "      <th>person_gender</th>\n",
       "      <th></th>\n",
       "      <th></th>\n",
       "    </tr>\n",
       "  </thead>\n",
       "  <tbody>\n",
       "    <tr>\n",
       "      <th>female</th>\n",
       "      <td>88.972025</td>\n",
       "      <td>11.027975</td>\n",
       "    </tr>\n",
       "    <tr>\n",
       "      <th>male</th>\n",
       "      <td>89.228895</td>\n",
       "      <td>10.771105</td>\n",
       "    </tr>\n",
       "  </tbody>\n",
       "</table>\n",
       "</div>"
      ],
      "text/plain": [
       "loan_status            0          1\n",
       "person_gender                      \n",
       "female         88.972025  11.027975\n",
       "male           89.228895  10.771105"
      ]
     },
     "execution_count": 112,
     "metadata": {},
     "output_type": "execute_result"
    }
   ],
   "source": [
    "pd.crosstab(loan_df['person_gender'], loan_df['loan_status'], normalize='index')*100"
   ]
  },
  {
   "cell_type": "code",
   "execution_count": 113,
   "id": "f7246d85-0e94-4428-b24d-363b2eb5224a",
   "metadata": {},
   "outputs": [
    {
     "data": {
      "image/png": "[encoded data removed]",
      "text/plain": [
       "<Figure size 640x480 with 1 Axes>"
      ]
     },
     "metadata": {},
     "output_type": "display_data"
    }
   ],
   "source": [
    "sns.countplot(x='person_gender', hue='loan_status', data=loan_df)\n",
    "plt.title('Loan Status Counts by Gender')\n",
    "plt.xlabel('Gender')\n",
    "plt.ylabel('Number of Applicants')\n",
    "plt.legend(title='Loan Status', labels=['Denied', 'Approved'])\n",
    "plt.show()"
   ]
  },
  {
   "cell_type": "markdown",
   "id": "e9679812-a64a-4356-9b43-782f952874d7",
   "metadata": {},
   "source": [
    "## 3)Highest education level"
   ]
  },
  {
   "cell_type": "code",
   "execution_count": 114,
   "id": "0447550c-6449-4545-9f19-1a67e02187a2",
   "metadata": {},
   "outputs": [
    {
     "data": {
      "text/html": [
       "<div>\n",
       "<style scoped>\n",
       "    .dataframe tbody tr th:only-of-type {\n",
       "        vertical-align: middle;\n",
       "    }\n",
       "\n",
       "    .dataframe tbody tr th {\n",
       "        vertical-align: top;\n",
       "    }\n",
       "\n",
       "    .dataframe thead th {\n",
       "        text-align: right;\n",
       "    }\n",
       "</style>\n",
       "<table border=\"1\" class=\"dataframe\">\n",
       "  <thead>\n",
       "    <tr style=\"text-align: right;\">\n",
       "      <th>loan_status</th>\n",
       "      <th>0</th>\n",
       "      <th>1</th>\n",
       "    </tr>\n",
       "    <tr>\n",
       "      <th>person_education</th>\n",
       "      <th></th>\n",
       "      <th></th>\n",
       "    </tr>\n",
       "  </thead>\n",
       "  <tbody>\n",
       "    <tr>\n",
       "      <th>Associate</th>\n",
       "      <td>8016</td>\n",
       "      <td>922</td>\n",
       "    </tr>\n",
       "    <tr>\n",
       "      <th>Bachelor</th>\n",
       "      <td>7963</td>\n",
       "      <td>988</td>\n",
       "    </tr>\n",
       "    <tr>\n",
       "      <th>Doctorate</th>\n",
       "      <td>8068</td>\n",
       "      <td>992</td>\n",
       "    </tr>\n",
       "    <tr>\n",
       "      <th>High School</th>\n",
       "      <td>8112</td>\n",
       "      <td>990</td>\n",
       "    </tr>\n",
       "    <tr>\n",
       "      <th>Master</th>\n",
       "      <td>7948</td>\n",
       "      <td>1001</td>\n",
       "    </tr>\n",
       "  </tbody>\n",
       "</table>\n",
       "</div>"
      ],
      "text/plain": [
       "loan_status          0     1\n",
       "person_education            \n",
       "Associate         8016   922\n",
       "Bachelor          7963   988\n",
       "Doctorate         8068   992\n",
       "High School       8112   990\n",
       "Master            7948  1001"
      ]
     },
     "execution_count": 114,
     "metadata": {},
     "output_type": "execute_result"
    }
   ],
   "source": [
    "\n",
    "pd.crosstab(loan_df['person_education'], loan_df['loan_status'])"
   ]
  },
  {
   "cell_type": "code",
   "execution_count": 115,
   "id": "ff0e399f-2733-41e4-9a84-3a5989f893e8",
   "metadata": {},
   "outputs": [
    {
     "data": {
      "text/html": [
       "<div>\n",
       "<style scoped>\n",
       "    .dataframe tbody tr th:only-of-type {\n",
       "        vertical-align: middle;\n",
       "    }\n",
       "\n",
       "    .dataframe tbody tr th {\n",
       "        vertical-align: top;\n",
       "    }\n",
       "\n",
       "    .dataframe thead th {\n",
       "        text-align: right;\n",
       "    }\n",
       "</style>\n",
       "<table border=\"1\" class=\"dataframe\">\n",
       "  <thead>\n",
       "    <tr style=\"text-align: right;\">\n",
       "      <th>loan_status</th>\n",
       "      <th>0</th>\n",
       "      <th>1</th>\n",
       "    </tr>\n",
       "    <tr>\n",
       "      <th>person_education</th>\n",
       "      <th></th>\n",
       "      <th></th>\n",
       "    </tr>\n",
       "  </thead>\n",
       "  <tbody>\n",
       "    <tr>\n",
       "      <th>Associate</th>\n",
       "      <td>17.813333</td>\n",
       "      <td>2.048889</td>\n",
       "    </tr>\n",
       "    <tr>\n",
       "      <th>Bachelor</th>\n",
       "      <td>17.695556</td>\n",
       "      <td>2.195556</td>\n",
       "    </tr>\n",
       "    <tr>\n",
       "      <th>Doctorate</th>\n",
       "      <td>17.928889</td>\n",
       "      <td>2.204444</td>\n",
       "    </tr>\n",
       "    <tr>\n",
       "      <th>High School</th>\n",
       "      <td>18.026667</td>\n",
       "      <td>2.200000</td>\n",
       "    </tr>\n",
       "    <tr>\n",
       "      <th>Master</th>\n",
       "      <td>17.662222</td>\n",
       "      <td>2.224444</td>\n",
       "    </tr>\n",
       "  </tbody>\n",
       "</table>\n",
       "</div>"
      ],
      "text/plain": [
       "loan_status               0         1\n",
       "person_education                     \n",
       "Associate         17.813333  2.048889\n",
       "Bachelor          17.695556  2.195556\n",
       "Doctorate         17.928889  2.204444\n",
       "High School       18.026667  2.200000\n",
       "Master            17.662222  2.224444"
      ]
     },
     "execution_count": 115,
     "metadata": {},
     "output_type": "execute_result"
    }
   ],
   "source": [
    "pd.crosstab(loan_df['person_education'], loan_df['loan_status'], normalize=True)*100"
   ]
  },
  {
   "cell_type": "code",
   "execution_count": 116,
   "id": "463e4b20-8870-4fb1-a0a2-16c928d703a5",
   "metadata": {},
   "outputs": [
    {
     "name": "stdout",
     "output_type": "stream",
     "text": [
      "person_education\n",
      "Associate      10.3\n",
      "Bachelor       11.0\n",
      "Doctorate      10.9\n",
      "High School    10.9\n",
      "Master         11.2\n",
      "dtype: float64\n"
     ]
    }
   ],
   "source": [
    "ct = pd.crosstab(loan_df['person_education'], loan_df['loan_status'])    \n",
    "survival_pct = (ct[1] / ct.sum(axis=1) * 100).round(1)\n",
    "print(survival_pct.reindex(['Associate','Bachelor','Doctorate','High School','Master']))"
   ]
  },
  {
   "cell_type": "code",
   "execution_count": 117,
   "id": "f4e13eae-69b6-460f-8f4f-d55adfe21105",
   "metadata": {},
   "outputs": [
    {
     "data": {
      "image/png": "[encoded data removed]",
      "text/plain": [
       "<Figure size 640x480 with 1 Axes>"
      ]
     },
     "metadata": {},
     "output_type": "display_data"
    }
   ],
   "source": [
    "sns.countplot(\n",
    "    x='person_education',\n",
    "    hue='loan_status',\n",
    "    data=loan_df\n",
    ")\n",
    "plt.title('Loan Status Counts by Education Level')\n",
    "plt.xlabel('Education Level')\n",
    "plt.ylabel('Number of Applicants')\n",
    "plt.legend(title='Loan Status', labels=['Denied', 'Approved'])\n",
    "plt.xticks(rotation=45)\n",
    "plt.show()"
   ]
  },
  {
   "cell_type": "markdown",
   "id": "5f99769d-a69b-4bd4-90a5-fab1b91dd23f",
   "metadata": {},
   "source": [
    "## 4)Annual income"
   ]
  },
  {
   "cell_type": "code",
   "execution_count": 118,
   "id": "247a7b3c-ae45-4602-91ba-565f9da162ca",
   "metadata": {},
   "outputs": [
    {
     "data": {
      "text/html": [
       "<div>\n",
       "<style scoped>\n",
       "    .dataframe tbody tr th:only-of-type {\n",
       "        vertical-align: middle;\n",
       "    }\n",
       "\n",
       "    .dataframe tbody tr th {\n",
       "        vertical-align: top;\n",
       "    }\n",
       "\n",
       "    .dataframe thead th {\n",
       "        text-align: right;\n",
       "    }\n",
       "</style>\n",
       "<table border=\"1\" class=\"dataframe\">\n",
       "  <thead>\n",
       "    <tr style=\"text-align: right;\">\n",
       "      <th>loan_status</th>\n",
       "      <th>0</th>\n",
       "      <th>1</th>\n",
       "    </tr>\n",
       "    <tr>\n",
       "      <th>Income50Cat</th>\n",
       "      <th></th>\n",
       "      <th></th>\n",
       "    </tr>\n",
       "  </thead>\n",
       "  <tbody>\n",
       "    <tr>\n",
       "      <th>&lt; $50k</th>\n",
       "      <td>13135</td>\n",
       "      <td>520</td>\n",
       "    </tr>\n",
       "    <tr>\n",
       "      <th>≥ $50k</th>\n",
       "      <td>26972</td>\n",
       "      <td>4373</td>\n",
       "    </tr>\n",
       "  </tbody>\n",
       "</table>\n",
       "</div>"
      ],
      "text/plain": [
       "loan_status      0     1\n",
       "Income50Cat             \n",
       "< $50k       13135   520\n",
       "≥ $50k       26972  4373"
      ]
     },
     "execution_count": 118,
     "metadata": {},
     "output_type": "execute_result"
    }
   ],
   "source": [
    "loan_df['person_income'] = loan_df['person_income'].fillna(loan_df['person_income'].median())\n",
    "loan_df['Income50Cat'] = np.where(loan_df['person_income'] < 50_000, '< $50k', '≥ $50k')\n",
    "pd.crosstab(loan_df['Income50Cat'], loan_df['loan_status'])"
   ]
  },
  {
   "cell_type": "code",
   "execution_count": 119,
   "id": "2f83a226-6347-403d-974f-a07766b859f9",
   "metadata": {},
   "outputs": [
    {
     "data": {
      "text/html": [
       "<div>\n",
       "<style scoped>\n",
       "    .dataframe tbody tr th:only-of-type {\n",
       "        vertical-align: middle;\n",
       "    }\n",
       "\n",
       "    .dataframe tbody tr th {\n",
       "        vertical-align: top;\n",
       "    }\n",
       "\n",
       "    .dataframe thead th {\n",
       "        text-align: right;\n",
       "    }\n",
       "</style>\n",
       "<table border=\"1\" class=\"dataframe\">\n",
       "  <thead>\n",
       "    <tr style=\"text-align: right;\">\n",
       "      <th>loan_status</th>\n",
       "      <th>0</th>\n",
       "      <th>1</th>\n",
       "    </tr>\n",
       "    <tr>\n",
       "      <th>Income50Cat</th>\n",
       "      <th></th>\n",
       "      <th></th>\n",
       "    </tr>\n",
       "  </thead>\n",
       "  <tbody>\n",
       "    <tr>\n",
       "      <th>&lt; $50k</th>\n",
       "      <td>96.191871</td>\n",
       "      <td>3.808129</td>\n",
       "    </tr>\n",
       "    <tr>\n",
       "      <th>≥ $50k</th>\n",
       "      <td>86.048812</td>\n",
       "      <td>13.951188</td>\n",
       "    </tr>\n",
       "  </tbody>\n",
       "</table>\n",
       "</div>"
      ],
      "text/plain": [
       "loan_status          0          1\n",
       "Income50Cat                      \n",
       "< $50k       96.191871   3.808129\n",
       "≥ $50k       86.048812  13.951188"
      ]
     },
     "execution_count": 119,
     "metadata": {},
     "output_type": "execute_result"
    }
   ],
   "source": [
    "pd.crosstab(loan_df['Income50Cat'], loan_df['loan_status'], normalize='index') * 100"
   ]
  },
  {
   "cell_type": "code",
   "execution_count": 120,
   "id": "b8248158-656a-41dd-a919-ddfd273de2ef",
   "metadata": {},
   "outputs": [
    {
     "data": {
      "image/png": "[encoded data removed]",
      "text/plain": [
       "<Figure size 640x480 with 1 Axes>"
      ]
     },
     "metadata": {},
     "output_type": "display_data"
    }
   ],
   "source": [
    "sns.histplot(\n",
    "    x='person_income', data=loan_df, hue='loan_status',\n",
    "    element='step', multiple='stack', bins=30\n",
    ")\n",
    "\n",
    "plt.title('Distribution of Annual Income by Loan Status')\n",
    "plt.xlabel('Annual Income')\n",
    "plt.ylabel('Number of Applicants')\n",
    "plt.legend(title='Loan Status', labels=['Approved', 'Denied'])\n",
    "plt.show()"
   ]
  },
  {
   "cell_type": "markdown",
   "id": "b25927db-1f04-4cf3-a534-5412982724a3",
   "metadata": {},
   "source": [
    "## 5)Credit score of the person"
   ]
  },
  {
   "cell_type": "code",
   "execution_count": 121,
   "id": "448fc167-6282-4c4c-b6e9-1227d3fc5260",
   "metadata": {},
   "outputs": [
    {
     "data": {
      "text/html": [
       "<div>\n",
       "<style scoped>\n",
       "    .dataframe tbody tr th:only-of-type {\n",
       "        vertical-align: middle;\n",
       "    }\n",
       "\n",
       "    .dataframe tbody tr th {\n",
       "        vertical-align: top;\n",
       "    }\n",
       "\n",
       "    .dataframe thead th {\n",
       "        text-align: right;\n",
       "    }\n",
       "</style>\n",
       "<table border=\"1\" class=\"dataframe\">\n",
       "  <thead>\n",
       "    <tr style=\"text-align: right;\">\n",
       "      <th>loan_status</th>\n",
       "      <th>0</th>\n",
       "      <th>1</th>\n",
       "    </tr>\n",
       "    <tr>\n",
       "      <th>Score700Cat</th>\n",
       "      <th></th>\n",
       "      <th></th>\n",
       "    </tr>\n",
       "  </thead>\n",
       "  <tbody>\n",
       "    <tr>\n",
       "      <th>&lt; 700</th>\n",
       "      <td>25900</td>\n",
       "      <td>1695</td>\n",
       "    </tr>\n",
       "    <tr>\n",
       "      <th>≥ 700</th>\n",
       "      <td>14207</td>\n",
       "      <td>3198</td>\n",
       "    </tr>\n",
       "  </tbody>\n",
       "</table>\n",
       "</div>"
      ],
      "text/plain": [
       "loan_status      0     1\n",
       "Score700Cat             \n",
       "< 700        25900  1695\n",
       "≥ 700        14207  3198"
      ]
     },
     "execution_count": 121,
     "metadata": {},
     "output_type": "execute_result"
    }
   ],
   "source": [
    "loan_df['credit_score'] = loan_df['credit_score'].fillna(loan_df['credit_score'].median())\n",
    "loan_df['Score700Cat'] = np.where(loan_df['credit_score'] < 700, '< 700', '≥ 700')\n",
    "pd.crosstab(loan_df['Score700Cat'], loan_df['loan_status'])"
   ]
  },
  {
   "cell_type": "code",
   "execution_count": 122,
   "id": "4aaaca69-0046-4827-84b4-2c623751f26e",
   "metadata": {},
   "outputs": [
    {
     "data": {
      "text/html": [
       "<div>\n",
       "<style scoped>\n",
       "    .dataframe tbody tr th:only-of-type {\n",
       "        vertical-align: middle;\n",
       "    }\n",
       "\n",
       "    .dataframe tbody tr th {\n",
       "        vertical-align: top;\n",
       "    }\n",
       "\n",
       "    .dataframe thead th {\n",
       "        text-align: right;\n",
       "    }\n",
       "</style>\n",
       "<table border=\"1\" class=\"dataframe\">\n",
       "  <thead>\n",
       "    <tr style=\"text-align: right;\">\n",
       "      <th>loan_status</th>\n",
       "      <th>0</th>\n",
       "      <th>1</th>\n",
       "    </tr>\n",
       "    <tr>\n",
       "      <th>Score700Cat</th>\n",
       "      <th></th>\n",
       "      <th></th>\n",
       "    </tr>\n",
       "  </thead>\n",
       "  <tbody>\n",
       "    <tr>\n",
       "      <th>&lt; 700</th>\n",
       "      <td>93.857583</td>\n",
       "      <td>6.142417</td>\n",
       "    </tr>\n",
       "    <tr>\n",
       "      <th>≥ 700</th>\n",
       "      <td>81.625970</td>\n",
       "      <td>18.374030</td>\n",
       "    </tr>\n",
       "  </tbody>\n",
       "</table>\n",
       "</div>"
      ],
      "text/plain": [
       "loan_status          0          1\n",
       "Score700Cat                      \n",
       "< 700        93.857583   6.142417\n",
       "≥ 700        81.625970  18.374030"
      ]
     },
     "execution_count": 122,
     "metadata": {},
     "output_type": "execute_result"
    }
   ],
   "source": [
    "pd.crosstab(loan_df['Score700Cat'], loan_df['loan_status'], normalize='index') * 100"
   ]
  },
  {
   "cell_type": "code",
   "execution_count": 123,
   "id": "9a3d4817-706f-44f4-bc0b-60331b299865",
   "metadata": {},
   "outputs": [
    {
     "data": {
      "image/png": "[encoded data removed]",
      "text/plain": [
       "<Figure size 640x480 with 1 Axes>"
      ]
     },
     "metadata": {},
     "output_type": "display_data"
    }
   ],
   "source": [
    "sns.histplot(\n",
    "    x='credit_score', data=loan_df, hue='loan_status',\n",
    "    element='step', multiple='stack', bins=30\n",
    ")\n",
    "\n",
    "plt.title('Distribution of Credit Score by Loan Status')\n",
    "plt.xlabel('Credit Score')\n",
    "plt.ylabel('Number of Applicants')\n",
    "plt.legend(title='Loan Status', labels=['Approved', 'Denied'])\n",
    "plt.show()"
   ]
  },
  {
   "cell_type": "markdown",
   "id": "38366f33-a1d5-4ad9-a1c6-732779417831",
   "metadata": {},
   "source": [
    "## 6)Indicator of previous loan defaults"
   ]
  },
  {
   "cell_type": "code",
   "execution_count": 124,
   "id": "04aedb0d-8bcc-482d-9a10-44a93aa7185e",
   "metadata": {},
   "outputs": [
    {
     "data": {
      "text/html": [
       "<div>\n",
       "<style scoped>\n",
       "    .dataframe tbody tr th:only-of-type {\n",
       "        vertical-align: middle;\n",
       "    }\n",
       "\n",
       "    .dataframe tbody tr th {\n",
       "        vertical-align: top;\n",
       "    }\n",
       "\n",
       "    .dataframe thead th {\n",
       "        text-align: right;\n",
       "    }\n",
       "</style>\n",
       "<table border=\"1\" class=\"dataframe\">\n",
       "  <thead>\n",
       "    <tr style=\"text-align: right;\">\n",
       "      <th>loan_status</th>\n",
       "      <th>0</th>\n",
       "      <th>1</th>\n",
       "    </tr>\n",
       "    <tr>\n",
       "      <th>previous_loan_defaults_on_file</th>\n",
       "      <th></th>\n",
       "      <th></th>\n",
       "    </tr>\n",
       "  </thead>\n",
       "  <tbody>\n",
       "    <tr>\n",
       "      <th>No</th>\n",
       "      <td>35556</td>\n",
       "      <td>4893</td>\n",
       "    </tr>\n",
       "    <tr>\n",
       "      <th>Yes</th>\n",
       "      <td>4551</td>\n",
       "      <td>0</td>\n",
       "    </tr>\n",
       "  </tbody>\n",
       "</table>\n",
       "</div>"
      ],
      "text/plain": [
       "loan_status                         0     1\n",
       "previous_loan_defaults_on_file             \n",
       "No                              35556  4893\n",
       "Yes                              4551     0"
      ]
     },
     "execution_count": 124,
     "metadata": {},
     "output_type": "execute_result"
    }
   ],
   "source": [
    "pd.crosstab(loan_df['previous_loan_defaults_on_file'], loan_df['loan_status'])"
   ]
  },
  {
   "cell_type": "code",
   "execution_count": 125,
   "id": "341c6cf2-61d5-492a-ace3-c53e67eb20d8",
   "metadata": {},
   "outputs": [
    {
     "data": {
      "text/html": [
       "<div>\n",
       "<style scoped>\n",
       "    .dataframe tbody tr th:only-of-type {\n",
       "        vertical-align: middle;\n",
       "    }\n",
       "\n",
       "    .dataframe tbody tr th {\n",
       "        vertical-align: top;\n",
       "    }\n",
       "\n",
       "    .dataframe thead th {\n",
       "        text-align: right;\n",
       "    }\n",
       "</style>\n",
       "<table border=\"1\" class=\"dataframe\">\n",
       "  <thead>\n",
       "    <tr style=\"text-align: right;\">\n",
       "      <th>loan_status</th>\n",
       "      <th>0</th>\n",
       "      <th>1</th>\n",
       "    </tr>\n",
       "    <tr>\n",
       "      <th>previous_loan_defaults_on_file</th>\n",
       "      <th></th>\n",
       "      <th></th>\n",
       "    </tr>\n",
       "  </thead>\n",
       "  <tbody>\n",
       "    <tr>\n",
       "      <th>No</th>\n",
       "      <td>79.013333</td>\n",
       "      <td>10.873333</td>\n",
       "    </tr>\n",
       "    <tr>\n",
       "      <th>Yes</th>\n",
       "      <td>10.113333</td>\n",
       "      <td>0.000000</td>\n",
       "    </tr>\n",
       "  </tbody>\n",
       "</table>\n",
       "</div>"
      ],
      "text/plain": [
       "loan_status                             0          1\n",
       "previous_loan_defaults_on_file                      \n",
       "No                              79.013333  10.873333\n",
       "Yes                             10.113333   0.000000"
      ]
     },
     "execution_count": 125,
     "metadata": {},
     "output_type": "execute_result"
    }
   ],
   "source": [
    "pd.crosstab(loan_df['previous_loan_defaults_on_file'], loan_df['loan_status'], normalize=True)*100"
   ]
  },
  {
   "cell_type": "code",
   "execution_count": 126,
   "id": "e03f9128-d8ea-4739-a037-9db1e4cf1c52",
   "metadata": {},
   "outputs": [
    {
     "data": {
      "text/html": [
       "<div>\n",
       "<style scoped>\n",
       "    .dataframe tbody tr th:only-of-type {\n",
       "        vertical-align: middle;\n",
       "    }\n",
       "\n",
       "    .dataframe tbody tr th {\n",
       "        vertical-align: top;\n",
       "    }\n",
       "\n",
       "    .dataframe thead th {\n",
       "        text-align: right;\n",
       "    }\n",
       "</style>\n",
       "<table border=\"1\" class=\"dataframe\">\n",
       "  <thead>\n",
       "    <tr style=\"text-align: right;\">\n",
       "      <th>loan_status</th>\n",
       "      <th>0</th>\n",
       "      <th>1</th>\n",
       "    </tr>\n",
       "    <tr>\n",
       "      <th>previous_loan_defaults_on_file</th>\n",
       "      <th></th>\n",
       "      <th></th>\n",
       "    </tr>\n",
       "  </thead>\n",
       "  <tbody>\n",
       "    <tr>\n",
       "      <th>No</th>\n",
       "      <td>87.903286</td>\n",
       "      <td>12.096714</td>\n",
       "    </tr>\n",
       "    <tr>\n",
       "      <th>Yes</th>\n",
       "      <td>100.000000</td>\n",
       "      <td>0.000000</td>\n",
       "    </tr>\n",
       "  </tbody>\n",
       "</table>\n",
       "</div>"
      ],
      "text/plain": [
       "loan_status                              0          1\n",
       "previous_loan_defaults_on_file                       \n",
       "No                               87.903286  12.096714\n",
       "Yes                             100.000000   0.000000"
      ]
     },
     "execution_count": 126,
     "metadata": {},
     "output_type": "execute_result"
    }
   ],
   "source": [
    "pd.crosstab(loan_df['previous_loan_defaults_on_file'], loan_df['loan_status'], normalize='index')*100"
   ]
  },
  {
   "cell_type": "code",
   "execution_count": 127,
   "id": "c939a61d-880f-4794-8907-033aaa6e2ca0",
   "metadata": {},
   "outputs": [
    {
     "data": {
      "image/png": "[encoded data removed]",
      "text/plain": [
       "<Figure size 640x480 with 1 Axes>"
      ]
     },
     "metadata": {},
     "output_type": "display_data"
    }
   ],
   "source": [
    "sns.countplot(x='previous_loan_defaults_on_file', hue='loan_status', data=loan_df)\n",
    "plt.title('Loan Status Counts by Previous Loan Status')\n",
    "plt.xlabel('Previous Loan Status')\n",
    "plt.ylabel('Number of Applicants')\n",
    "plt.legend(title='Loan Status', labels=['Denied', 'Approved'])\n",
    "plt.show()"
   ]
  },
  {
   "cell_type": "markdown",
   "id": "086ba197-d505-4325-b666-d4e120b169e9",
   "metadata": {},
   "source": [
    "## 7)Purpose of the loan"
   ]
  },
  {
   "cell_type": "code",
   "execution_count": 128,
   "id": "b1d81777-2c7e-433a-a27d-8b43a8dd48f0",
   "metadata": {},
   "outputs": [
    {
     "data": {
      "text/html": [
       "<div>\n",
       "<style scoped>\n",
       "    .dataframe tbody tr th:only-of-type {\n",
       "        vertical-align: middle;\n",
       "    }\n",
       "\n",
       "    .dataframe tbody tr th {\n",
       "        vertical-align: top;\n",
       "    }\n",
       "\n",
       "    .dataframe thead th {\n",
       "        text-align: right;\n",
       "    }\n",
       "</style>\n",
       "<table border=\"1\" class=\"dataframe\">\n",
       "  <thead>\n",
       "    <tr style=\"text-align: right;\">\n",
       "      <th>loan_status</th>\n",
       "      <th>0</th>\n",
       "      <th>1</th>\n",
       "    </tr>\n",
       "    <tr>\n",
       "      <th>loan_intent</th>\n",
       "      <th></th>\n",
       "      <th></th>\n",
       "    </tr>\n",
       "  </thead>\n",
       "  <tbody>\n",
       "    <tr>\n",
       "      <th>DEBTCONSOLIDATION</th>\n",
       "      <td>7038</td>\n",
       "      <td>502</td>\n",
       "    </tr>\n",
       "    <tr>\n",
       "      <th>EDUCATION</th>\n",
       "      <td>6062</td>\n",
       "      <td>1397</td>\n",
       "    </tr>\n",
       "    <tr>\n",
       "      <th>HOMEIMPROVEMENT</th>\n",
       "      <td>6018</td>\n",
       "      <td>1448</td>\n",
       "    </tr>\n",
       "    <tr>\n",
       "      <th>MEDICAL</th>\n",
       "      <td>7085</td>\n",
       "      <td>493</td>\n",
       "    </tr>\n",
       "    <tr>\n",
       "      <th>PERSONAL</th>\n",
       "      <td>6867</td>\n",
       "      <td>544</td>\n",
       "    </tr>\n",
       "    <tr>\n",
       "      <th>VENTURE</th>\n",
       "      <td>7037</td>\n",
       "      <td>509</td>\n",
       "    </tr>\n",
       "  </tbody>\n",
       "</table>\n",
       "</div>"
      ],
      "text/plain": [
       "loan_status           0     1\n",
       "loan_intent                  \n",
       "DEBTCONSOLIDATION  7038   502\n",
       "EDUCATION          6062  1397\n",
       "HOMEIMPROVEMENT    6018  1448\n",
       "MEDICAL            7085   493\n",
       "PERSONAL           6867   544\n",
       "VENTURE            7037   509"
      ]
     },
     "execution_count": 128,
     "metadata": {},
     "output_type": "execute_result"
    }
   ],
   "source": [
    "pd.crosstab(loan_df['loan_intent'], loan_df['loan_status'])"
   ]
  },
  {
   "cell_type": "code",
   "execution_count": 129,
   "id": "1135b255-59fd-4378-8a04-60284f84209f",
   "metadata": {
    "scrolled": true
   },
   "outputs": [
    {
     "data": {
      "text/html": [
       "<div>\n",
       "<style scoped>\n",
       "    .dataframe tbody tr th:only-of-type {\n",
       "        vertical-align: middle;\n",
       "    }\n",
       "\n",
       "    .dataframe tbody tr th {\n",
       "        vertical-align: top;\n",
       "    }\n",
       "\n",
       "    .dataframe thead th {\n",
       "        text-align: right;\n",
       "    }\n",
       "</style>\n",
       "<table border=\"1\" class=\"dataframe\">\n",
       "  <thead>\n",
       "    <tr style=\"text-align: right;\">\n",
       "      <th>loan_status</th>\n",
       "      <th>0</th>\n",
       "      <th>1</th>\n",
       "    </tr>\n",
       "    <tr>\n",
       "      <th>loan_intent</th>\n",
       "      <th></th>\n",
       "      <th></th>\n",
       "    </tr>\n",
       "  </thead>\n",
       "  <tbody>\n",
       "    <tr>\n",
       "      <th>DEBTCONSOLIDATION</th>\n",
       "      <td>15.640000</td>\n",
       "      <td>1.115556</td>\n",
       "    </tr>\n",
       "    <tr>\n",
       "      <th>EDUCATION</th>\n",
       "      <td>13.471111</td>\n",
       "      <td>3.104444</td>\n",
       "    </tr>\n",
       "    <tr>\n",
       "      <th>HOMEIMPROVEMENT</th>\n",
       "      <td>13.373333</td>\n",
       "      <td>3.217778</td>\n",
       "    </tr>\n",
       "    <tr>\n",
       "      <th>MEDICAL</th>\n",
       "      <td>15.744444</td>\n",
       "      <td>1.095556</td>\n",
       "    </tr>\n",
       "    <tr>\n",
       "      <th>PERSONAL</th>\n",
       "      <td>15.260000</td>\n",
       "      <td>1.208889</td>\n",
       "    </tr>\n",
       "    <tr>\n",
       "      <th>VENTURE</th>\n",
       "      <td>15.637778</td>\n",
       "      <td>1.131111</td>\n",
       "    </tr>\n",
       "  </tbody>\n",
       "</table>\n",
       "</div>"
      ],
      "text/plain": [
       "loan_status                0         1\n",
       "loan_intent                           \n",
       "DEBTCONSOLIDATION  15.640000  1.115556\n",
       "EDUCATION          13.471111  3.104444\n",
       "HOMEIMPROVEMENT    13.373333  3.217778\n",
       "MEDICAL            15.744444  1.095556\n",
       "PERSONAL           15.260000  1.208889\n",
       "VENTURE            15.637778  1.131111"
      ]
     },
     "execution_count": 129,
     "metadata": {},
     "output_type": "execute_result"
    }
   ],
   "source": [
    "pd.crosstab(loan_df['loan_intent'], loan_df['loan_status'], normalize=True)*100"
   ]
  },
  {
   "cell_type": "code",
   "execution_count": 130,
   "id": "b439b68e-33c1-486a-97b5-ea6bd67c49ea",
   "metadata": {},
   "outputs": [
    {
     "name": "stdout",
     "output_type": "stream",
     "text": [
      "loan_intent\n",
      "DEBTCONSOLIDATION     6.7\n",
      "EDUCATION            18.7\n",
      "HOMEIMPROVEMENT      19.4\n",
      "MEDICAL               6.5\n",
      "PERSONAL              7.3\n",
      "VENTURE               6.7\n",
      "dtype: float64\n"
     ]
    }
   ],
   "source": [
    "ct = pd.crosstab(loan_df['loan_intent'], loan_df['loan_status'])    \n",
    "loan_status_pct = (ct[1] / ct.sum(axis=1) * 100).round(1)\n",
    "print(loan_status_pct.reindex(['DEBTCONSOLIDATION','EDUCATION','HOMEIMPROVEMENT','MEDICAL','PERSONAL','VENTURE']))"
   ]
  },
  {
   "cell_type": "code",
   "execution_count": 131,
   "id": "ba288889-29e1-4280-a3d0-eaa4464d5ea9",
   "metadata": {},
   "outputs": [
    {
     "data": {
      "image/png": "[encoded data removed]",
      "text/plain": [
       "<Figure size 640x480 with 1 Axes>"
      ]
     },
     "metadata": {},
     "output_type": "display_data"
    }
   ],
   "source": [
    "sns.countplot(\n",
    "    x='loan_intent',\n",
    "    hue='loan_status',\n",
    "    data=loan_df\n",
    ")\n",
    "plt.title('Loan Status Counts by Loan Intent')\n",
    "plt.xlabel('Loan Intent')\n",
    "plt.ylabel('Number of Applicants')\n",
    "plt.legend(title='Loan Status', labels=['Denied', 'Approved'])\n",
    "plt.xticks(rotation=45)\n",
    "plt.show()"
   ]
  },
  {
   "cell_type": "markdown",
   "id": "ac49678f-fd60-4da7-a8ff-0ea8ea126b0e",
   "metadata": {},
   "source": [
    "Applicants with an annual income of at least 50k have roughly 10% higher chances of loan approval compared to those earning less than 50k. Additionally, the age data suggests that younger applicants (ages 30–50) are more likely to be approved than older applicants (ages 40–70). A similar trend appears with credit score, where individuals with stronger credit histories show significantly higher approval rates.\n",
    "\n",
    "When examining gender differences, there appears to be no substantial disparity between male and female applicants. The same applies to education level and loan purpose, which show minimal influence on approval outcomes. The indicator of previous loan defaults also provides limited predictive value, likely because the ratio between “Yes” and “No” responses is too imbalanced to draw meaningful conclusions.\n",
    "\n",
    "Based on these observations, the financial institution is unlikely to face potential legal issues, since age alone is not the sole factor influencing approval decisions and other protected characteristics (such as gender or education) do not appear to bias the model’s outcomes.\n",
    "\n"
   ]
  },
  {
   "cell_type": "code",
   "execution_count": null,
   "id": "238afe4d-8768-4367-b2e7-d98d87d9e41b",
   "metadata": {},
   "outputs": [],
   "source": []
  },
  {
   "cell_type": "code",
   "execution_count": null,
   "id": "49e771c4-235f-4c55-9ce0-583575854bb4",
   "metadata": {},
   "outputs": [],
   "source": []
  }
 ],
 "metadata": {
  "kernelspec": {
   "display_name": "Python [conda env:base] *",
   "language": "python",
   "name": "conda-base-py"
  },
  "language_info": {
   "codemirror_mode": {
    "name": "ipython",
    "version": 3
   },
   "file_extension": ".py",
   "mimetype": "text/x-python",
   "name": "python",
   "nbconvert_exporter": "python",
   "pygments_lexer": "ipython3",
   "version": "3.13.5"
  }
 },
 "nbformat": 4,
 "nbformat_minor": 5
}
